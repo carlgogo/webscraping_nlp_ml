{
 "cells": [
  {
   "cell_type": "code",
   "execution_count": 1,
   "metadata": {
    "collapsed": true
   },
   "outputs": [],
   "source": [
    "import numpy as np\n",
    "import pandas as pd\n",
    "import time\n",
    "from src import *"
   ]
  },
  {
   "cell_type": "markdown",
   "metadata": {},
   "source": [
    "### get data"
   ]
  },
  {
   "cell_type": "code",
   "execution_count": 2,
   "metadata": {
    "collapsed": false,
    "scrolled": false
   },
   "outputs": [
    {
     "data": {
      "text/html": [
       "<div>\n",
       "<table border=\"1\" class=\"dataframe\">\n",
       "  <thead>\n",
       "    <tr style=\"text-align: right;\">\n",
       "      <th></th>\n",
       "      <th>urn</th>\n",
       "      <th>name</th>\n",
       "      <th>url</th>\n",
       "      <th>ofsted</th>\n",
       "      <th>rawtext</th>\n",
       "      <th>scraping</th>\n",
       "    </tr>\n",
       "  </thead>\n",
       "  <tbody>\n",
       "    <tr>\n",
       "      <th>0</th>\n",
       "      <td>100322</td>\n",
       "      <td>Avonmore Primary School</td>\n",
       "      <td>http://www.avonmore.lbhf.sch.uk/</td>\n",
       "      <td>2.0</td>\n",
       "      <td>NOLINKABOUT</td>\n",
       "      <td>-1</td>\n",
       "    </tr>\n",
       "    <tr>\n",
       "      <th>1</th>\n",
       "      <td>100324</td>\n",
       "      <td>Brackenbury Primary School</td>\n",
       "      <td>http://www.brackenbury.lbhf.sch.uk/</td>\n",
       "      <td>1.0</td>\n",
       "      <td>[Video: A Day in the Life of Brackenbury, Prov...</td>\n",
       "      <td>1</td>\n",
       "    </tr>\n",
       "    <tr>\n",
       "      <th>2</th>\n",
       "      <td>100326</td>\n",
       "      <td>Miles Coverdale Primary School</td>\n",
       "      <td>http://www.milescoverdaleprimary.co.uk/</td>\n",
       "      <td>1.0</td>\n",
       "      <td>[We want every child to fulfil their potential...</td>\n",
       "      <td>1</td>\n",
       "    </tr>\n",
       "    <tr>\n",
       "      <th>3</th>\n",
       "      <td>100328</td>\n",
       "      <td>Flora Gardens Primary School</td>\n",
       "      <td>http://www.floragardens.lbhf.sch.uk/</td>\n",
       "      <td>3.0</td>\n",
       "      <td>[Flora Gardens Primary School, Dalling Road, H...</td>\n",
       "      <td>1</td>\n",
       "    </tr>\n",
       "    <tr>\n",
       "      <th>4</th>\n",
       "      <td>100331</td>\n",
       "      <td>Kenmont Primary School</td>\n",
       "      <td>http://www.kenmont-primary.org/</td>\n",
       "      <td>2.0</td>\n",
       "      <td>[Kenmont has three main community languages - ...</td>\n",
       "      <td>1</td>\n",
       "    </tr>\n",
       "  </tbody>\n",
       "</table>\n",
       "</div>"
      ],
      "text/plain": [
       "      urn                            name  \\\n",
       "0  100322         Avonmore Primary School   \n",
       "1  100324      Brackenbury Primary School   \n",
       "2  100326  Miles Coverdale Primary School   \n",
       "3  100328    Flora Gardens Primary School   \n",
       "4  100331          Kenmont Primary School   \n",
       "\n",
       "                                       url  ofsted  \\\n",
       "0         http://www.avonmore.lbhf.sch.uk/     2.0   \n",
       "1      http://www.brackenbury.lbhf.sch.uk/     1.0   \n",
       "2  http://www.milescoverdaleprimary.co.uk/     1.0   \n",
       "3     http://www.floragardens.lbhf.sch.uk/     3.0   \n",
       "4          http://www.kenmont-primary.org/     2.0   \n",
       "\n",
       "                                             rawtext  scraping  \n",
       "0                                        NOLINKABOUT        -1  \n",
       "1  [Video: A Day in the Life of Brackenbury, Prov...         1  \n",
       "2  [We want every child to fulfil their potential...         1  \n",
       "3  [Flora Gardens Primary School, Dalling Road, H...         1  \n",
       "4  [Kenmont has three main community languages - ...         1  "
      ]
     },
     "execution_count": 2,
     "metadata": {},
     "output_type": "execute_result"
    }
   ],
   "source": [
    "df = pd.read_pickle('./data/db_master.pickle')\n",
    "df.to_pickle('./data/db_master.pickle~')\n",
    "df.head()"
   ]
  },
  {
   "cell_type": "markdown",
   "metadata": {},
   "source": [
    "### preprocess"
   ]
  },
  {
   "cell_type": "code",
   "execution_count": 3,
   "metadata": {
    "collapsed": false
   },
   "outputs": [
    {
     "name": "stdout",
     "output_type": "stream",
     "text": [
      "\n",
      ">>> Overview on data:\n",
      "Total:     20551    | Scraped: 13286    | Scraped fail:  6172    | Unscraped:  1093\n",
      "--------------------------------------------------------------------------------------\n",
      "Rank # 1 :  3996    |           2721    |                1275    |                0\n",
      "Rank # 2 : 13548    |           9124    |                4324    |              100\n",
      "Rank # 3 :  1739    |           1243    |                 496    |                0\n",
      "Rank # 4 :   275    |            198    |                  77    |                0\n",
      "Rank NaN :   993    |              0    |                   0    |              993\n",
      "\n",
      ">>> Scraping failed because of:\n",
      "     3825 NOLINKABOUT\n",
      "     1578 NOCONNECTION\n",
      "      525 NOURL\n",
      "       10 FAIL\n",
      "      234 []\n",
      "---------\n",
      "     6172 \n"
     ]
    },
    {
     "data": {
      "text/html": [
       "<div>\n",
       "<table border=\"1\" class=\"dataframe\">\n",
       "  <thead>\n",
       "    <tr style=\"text-align: right;\">\n",
       "      <th></th>\n",
       "      <th>urn</th>\n",
       "      <th>name</th>\n",
       "      <th>url</th>\n",
       "      <th>ofsted</th>\n",
       "      <th>rawtext</th>\n",
       "      <th>scraping</th>\n",
       "    </tr>\n",
       "  </thead>\n",
       "  <tbody>\n",
       "    <tr>\n",
       "      <th>0</th>\n",
       "      <td>100322</td>\n",
       "      <td>Avonmore Primary School</td>\n",
       "      <td>http://www.avonmore.lbhf.sch.uk/</td>\n",
       "      <td>2.0</td>\n",
       "      <td>NOLINKABOUT</td>\n",
       "      <td>-1</td>\n",
       "    </tr>\n",
       "    <tr>\n",
       "      <th>1</th>\n",
       "      <td>100324</td>\n",
       "      <td>Brackenbury Primary School</td>\n",
       "      <td>http://www.brackenbury.lbhf.sch.uk/</td>\n",
       "      <td>1.0</td>\n",
       "      <td>[Video: A Day in the Life of Brackenbury, Prov...</td>\n",
       "      <td>1</td>\n",
       "    </tr>\n",
       "    <tr>\n",
       "      <th>2</th>\n",
       "      <td>100326</td>\n",
       "      <td>Miles Coverdale Primary School</td>\n",
       "      <td>http://www.milescoverdaleprimary.co.uk/</td>\n",
       "      <td>1.0</td>\n",
       "      <td>[We want every child to fulfil their potential...</td>\n",
       "      <td>1</td>\n",
       "    </tr>\n",
       "    <tr>\n",
       "      <th>3</th>\n",
       "      <td>100328</td>\n",
       "      <td>Flora Gardens Primary School</td>\n",
       "      <td>http://www.floragardens.lbhf.sch.uk/</td>\n",
       "      <td>3.0</td>\n",
       "      <td>[Flora Gardens Primary School, Dalling Road, H...</td>\n",
       "      <td>1</td>\n",
       "    </tr>\n",
       "    <tr>\n",
       "      <th>4</th>\n",
       "      <td>100331</td>\n",
       "      <td>Kenmont Primary School</td>\n",
       "      <td>http://www.kenmont-primary.org/</td>\n",
       "      <td>2.0</td>\n",
       "      <td>[Kenmont has three main community languages - ...</td>\n",
       "      <td>1</td>\n",
       "    </tr>\n",
       "  </tbody>\n",
       "</table>\n",
       "</div>"
      ],
      "text/plain": [
       "      urn                            name  \\\n",
       "0  100322         Avonmore Primary School   \n",
       "1  100324      Brackenbury Primary School   \n",
       "2  100326  Miles Coverdale Primary School   \n",
       "3  100328    Flora Gardens Primary School   \n",
       "4  100331          Kenmont Primary School   \n",
       "\n",
       "                                       url  ofsted  \\\n",
       "0         http://www.avonmore.lbhf.sch.uk/     2.0   \n",
       "1      http://www.brackenbury.lbhf.sch.uk/     1.0   \n",
       "2  http://www.milescoverdaleprimary.co.uk/     1.0   \n",
       "3     http://www.floragardens.lbhf.sch.uk/     3.0   \n",
       "4          http://www.kenmont-primary.org/     2.0   \n",
       "\n",
       "                                             rawtext  scraping  \n",
       "0                                        NOLINKABOUT        -1  \n",
       "1  [Video: A Day in the Life of Brackenbury, Prov...         1  \n",
       "2  [We want every child to fulfil their potential...         1  \n",
       "3  [Flora Gardens Primary School, Dalling Road, H...         1  \n",
       "4  [Kenmont has three main community languages - ...         1  "
      ]
     },
     "execution_count": 3,
     "metadata": {},
     "output_type": "execute_result"
    }
   ],
   "source": [
    "df = scrape_preprocessing(df)\n",
    "print_data_overview(df)\n",
    "df.head()"
   ]
  },
  {
   "cell_type": "markdown",
   "metadata": {},
   "source": [
    "### scrape more data"
   ]
  },
  {
   "cell_type": "code",
   "execution_count": 4,
   "metadata": {
    "collapsed": false,
    "scrolled": true
   },
   "outputs": [
    {
     "name": "stdout",
     "output_type": "stream",
     "text": [
      "start web-scraping 100 schools of rank 2 (0=all) starting with index 20378\n",
      ". . . . . . . . . . . . . . . . . . . . . . . . . . . . . . . . . . . . . . . . . . . . . . . . . . . . . . . . . . . . . . . . . . . . . . . . . . . . . . . . . . . . . . . . . . . . . . . . . . . .\n"
     ]
    }
   ],
   "source": [
    "#import warnings\n",
    "#warnings.filterwarnings('ignore') # ignore https warnings \n",
    "\n",
    "number_of_added_websites = 100 # make it 0 if you only want to use what we have already stored\n",
    "rank = 2\n",
    "df_new = scrape_more_websites(df, number_of_added_websites=number_of_added_websites, rank=rank)"
   ]
  },
  {
   "cell_type": "code",
   "execution_count": 5,
   "metadata": {
    "collapsed": false,
    "scrolled": true
   },
   "outputs": [
    {
     "name": "stdout",
     "output_type": "stream",
     "text": [
      "=== BEFORE ===\n",
      "\n",
      ">>> Overview on data:\n",
      "Total:     20551    | Scraped: 13286    | Scraped fail:  6172    | Unscraped:  1093\n",
      "--------------------------------------------------------------------------------------\n",
      "Rank # 1 :  3996    |           2721    |                1275    |                0\n",
      "Rank # 2 : 13548    |           9124    |                4324    |              100\n",
      "Rank # 3 :  1739    |           1243    |                 496    |                0\n",
      "Rank # 4 :   275    |            198    |                  77    |                0\n",
      "Rank NaN :   993    |              0    |                   0    |              993\n",
      "\n",
      ">>> Scraping failed because of:\n",
      "     3825 NOLINKABOUT\n",
      "     1578 NOCONNECTION\n",
      "      525 NOURL\n",
      "       10 FAIL\n",
      "      234 []\n",
      "---------\n",
      "     6172 \n",
      "\n",
      "\n",
      "=== AFTER ===\n",
      "\n",
      ">>> Overview on data:\n",
      "Total:     20551    | Scraped: 13304    | Scraped fail:  6254    | Unscraped:   993\n",
      "--------------------------------------------------------------------------------------\n",
      "Rank # 1 :  3996    |           2721    |                1275    |                0\n",
      "Rank # 2 : 13548    |           9142    |                4406    |                0\n",
      "Rank # 3 :  1739    |           1243    |                 496    |                0\n",
      "Rank # 4 :   275    |            198    |                  77    |                0\n",
      "Rank NaN :   993    |              0    |                   0    |              993\n",
      "\n",
      ">>> Scraping failed because of:\n",
      "     3828 NOLINKABOUT\n",
      "     1657 NOCONNECTION\n",
      "      525 NOURL\n",
      "       10 FAIL\n",
      "      234 []\n",
      "---------\n",
      "     6254 \n"
     ]
    }
   ],
   "source": [
    "print '=== BEFORE ==='\n",
    "print_data_overview(df)\n",
    "\n",
    "print '\\n\\n=== AFTER ==='\n",
    "df_new = scrape_preprocessing(df_new)\n",
    "print_data_overview(df_new)"
   ]
  },
  {
   "cell_type": "markdown",
   "metadata": {},
   "source": [
    "### save data"
   ]
  },
  {
   "cell_type": "code",
   "execution_count": 6,
   "metadata": {
    "collapsed": false
   },
   "outputs": [],
   "source": [
    "#df_new"
   ]
  },
  {
   "cell_type": "code",
   "execution_count": 7,
   "metadata": {
    "collapsed": false
   },
   "outputs": [],
   "source": [
    "#time.sleep(2)\n",
    "df_new.to_pickle('./data/db_master.pickle')"
   ]
  },
  {
   "cell_type": "markdown",
   "metadata": {},
   "source": [
    "#### check"
   ]
  },
  {
   "cell_type": "code",
   "execution_count": 8,
   "metadata": {
    "collapsed": false
   },
   "outputs": [],
   "source": [
    "#df_new[(df_new.ofsted == 4) & (df_new.scraping == 1)]"
   ]
  },
  {
   "cell_type": "code",
   "execution_count": 9,
   "metadata": {
    "collapsed": false
   },
   "outputs": [],
   "source": [
    "#df_new[df_new.ofsted == 4]"
   ]
  },
  {
   "cell_type": "markdown",
   "metadata": {
    "collapsed": false
   },
   "source": [
    "# df_new.dtypes\n",
    "#\n",
    "#df_test = df_new.copy()\n",
    "#df_test.dtypes\n",
    "#\n",
    "#df_test['name'] = df_test['name'].astype(str)\n",
    "#df_test.dtypes"
   ]
  }
 ],
 "metadata": {
  "kernelspec": {
   "display_name": "Python 2",
   "language": "python",
   "name": "python2"
  },
  "language_info": {
   "codemirror_mode": {
    "name": "ipython",
    "version": 2
   },
   "file_extension": ".py",
   "mimetype": "text/x-python",
   "name": "python",
   "nbconvert_exporter": "python",
   "pygments_lexer": "ipython2",
   "version": "2.7.13"
  }
 },
 "nbformat": 4,
 "nbformat_minor": 2
}
