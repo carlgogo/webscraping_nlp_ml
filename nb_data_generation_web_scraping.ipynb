{
 "cells": [
  {
   "cell_type": "code",
   "execution_count": 4,
   "metadata": {
    "collapsed": true,
    "deletable": true,
    "editable": true
   },
   "outputs": [],
   "source": [
    "import requests\n",
    "import bs4 as bs\n",
    "import tqdm\n",
    "import pandas as pd\n",
    "\n",
    "from src import *\n",
    "\n",
    "%autoreload 2"
   ]
  },
  {
   "cell_type": "markdown",
   "metadata": {
    "deletable": true,
    "editable": true
   },
   "source": [
    "# Data generation, identification of data sources"
   ]
  },
  {
   "cell_type": "markdown",
   "metadata": {
    "deletable": true,
    "editable": true
   },
   "source": [
    "Initially it was suggested to  mine text from schools websites.  Later we've found an additional data source: the government open data, including Ofsted statistics. This comes in several CSV databases that can be downloaded from two sites:\n",
    "\n",
    "https://www.compare-school-performance.service.gov.uk/download-data \n",
    "\n",
    "https://www.gov.uk/government/statistical-data-sets/monthly-management-information-ofsteds-school-inspections-outcomes \n",
    "\n",
    "The first link leads to CSV files with the 2015-2016 database with much of info that\n",
    "can be obtained manually by surfing the site (www.compare-school-performance.service.gov.uk). The second link leads to the Ofsted public data (updated monthly). These CSV file is up to date (31 January 2017) and contains the overall Ofsted ratings for ~22K UK schools. "
   ]
  },
  {
   "cell_type": "markdown",
   "metadata": {
    "deletable": true,
    "editable": true
   },
   "source": [
    "#####  Scraping schools websites"
   ]
  },
  {
   "cell_type": "markdown",
   "metadata": {
    "deletable": true,
    "editable": true
   },
   "source": [
    "Web scraping schools websites can be done using the functions in ``web_scraping.py``. \n",
    "\n",
    "``get_webpage_info`` : is the funciton that scrapes school websites given their URLs. This function has been tested with hundreds of schools websites. It handles pure HTML pages and JavaScript pages using a combination of libraries (requests, BeautifulSoup, Selenium, PhantomJS). Knowledge on HTML tags was needed to pinpoint the text from the 'about us' or 'ethos' webpages. Also many Python string manipulation tricks are used when matching the website content with a collection of interesting KEYWORDS. Some websites cannot be mined when they are down, non responsive or have a structure that we cannot parse. We expect to be able to mine ~70 percent of the total number of UK schools websites (~22K).\n",
    "\n",
    "``get_webpage_text_from_url_list`` : we use this function to  grab the 'about-us' or 'ethos' text from a list of school URLs. A first big problem is obtaining the list of the school websites, which unfortunately is not available in any of the government databases."
   ]
  },
  {
   "cell_type": "markdown",
   "metadata": {
    "deletable": true,
    "editable": true
   },
   "source": [
    "#####  Mining the URLs"
   ]
  },
  {
   "cell_type": "markdown",
   "metadata": {
    "deletable": true,
    "editable": true
   },
   "source": [
    "The task of retrieving the schools URLs was solved by scraping the government site:\n",
    "https://www.compare-school-performance.service.gov.uk/. It is an online database where we can manually find schools according to different criteria. It displays metadata including the Ofsted rating and the actual schools website. We can automatize this procedure in two ways:\n",
    "\n",
    "**I)** Directly scraping queries from https://www.compare-school-performance.service.gov.uk/\n",
    "usign the functions: \n",
    "``get_schools_urls``, ``get_schools_metadata`` and ``generate_schools_db``.\n",
    "We cannot find a way to have in a single query all UK schools at once, so this approach is semi-automatic. We could filter by location and obtain a few hundred schools in one batch.\n",
    "\n",
    "**II)** Using the government open databases to obtain a list of URNs for all the schools in UK. With a school URN we can access the school entry in https://www.compare-school-performance.service.gov.uk/. This page is then scraped in order to obtain the actual school websites and later the mined text using ``get_schools_urls`` and ``get_webpage_text_from_url_list``\n",
    "\n",
    "We'll use the second method. We can obtain ~20K UK schools with their Ofsted ratings and a lot of different useful information: school location, type, level, gender, faith denomination, number of pupils and teachers, pupils ages, etc."
   ]
  },
  {
   "cell_type": "markdown",
   "metadata": {
    "deletable": true,
    "editable": true
   },
   "source": [
    "#  Prototyping the web scraping code"
   ]
  },
  {
   "cell_type": "markdown",
   "metadata": {
    "deletable": true,
    "editable": true
   },
   "source": [
    "**NOTE:** The  prototype was moved to the *web_scraping.py* module. A longer list of keywords is used."
   ]
  },
  {
   "cell_type": "markdown",
   "metadata": {
    "deletable": true,
    "editable": true
   },
   "source": [
    "###  Exploring Requests and BeautifulSoup"
   ]
  },
  {
   "cell_type": "markdown",
   "metadata": {
    "deletable": true,
    "editable": true
   },
   "source": [
    "Randomly chosen  school website."
   ]
  },
  {
   "cell_type": "code",
   "execution_count": 55,
   "metadata": {
    "collapsed": false,
    "deletable": true,
    "editable": true
   },
   "outputs": [],
   "source": [
    "url = 'http://www.sohoparish.co.uk/'"
   ]
  },
  {
   "cell_type": "code",
   "execution_count": 411,
   "metadata": {
    "collapsed": true,
    "deletable": true,
    "editable": true
   },
   "outputs": [
    {
     "data": {
      "text/html": [
       "<iframe src=http://www.sohoparish.co.uk/ width=700 height=500></iframe>"
      ],
      "text/plain": [
       "<IPython.core.display.HTML object>"
      ]
     },
     "execution_count": 411,
     "metadata": {},
     "output_type": "execute_result"
    }
   ],
   "source": [
    "from IPython.display import HTML\n",
    "\n",
    "HTML('<iframe src='+url+' width=700 height=500></iframe>')"
   ]
  },
  {
   "cell_type": "markdown",
   "metadata": {
    "deletable": true,
    "editable": true
   },
   "source": [
    "Raw data."
   ]
  },
  {
   "cell_type": "code",
   "execution_count": 58,
   "metadata": {
    "collapsed": true,
    "deletable": true,
    "editable": true
   },
   "outputs": [],
   "source": [
    "page = requests.get(url)\n",
    "content = page.content\n",
    "page.close()"
   ]
  },
  {
   "cell_type": "code",
   "execution_count": 74,
   "metadata": {
    "collapsed": false,
    "deletable": true,
    "editable": true
   },
   "outputs": [
    {
     "name": "stdout",
     "output_type": "stream",
     "text": [
      "<!DOCTYPE html>\n",
      "<html xmlns=\"http://www.w3.org/1999/xhtml\">\r\n",
      "<head id=\"cm_ctl00_templateHead\"><script src=\"//fluencycontent-schoolwebsite.netdna-ssl.com/Releases/3764.0/Scripts/jquery.min.js\" type=\"text/javascript\"></script><meta http-equiv=\"Content-Type\" content=\"text/html; charset=utf-8\" /><meta name=\"description\" content=\"Visit our website regularly for admissions guidelines, pupil resources, latest news stories, upcoming events and important notices.\" /><meta name=\"keywords\" content=\"School \n"
     ]
    }
   ],
   "source": [
    "print content[:500]"
   ]
  },
  {
   "cell_type": "markdown",
   "metadata": {
    "deletable": true,
    "editable": true
   },
   "source": [
    "http://web.stanford.edu/~zlotnick/TextAsData/Web_Scraping_with_Beautiful_Soup.html\n",
    "\n",
    "http://chrisalbon.com/python/beautiful_soup_html_basics.html\n",
    "\n",
    "http://youkilljohnny.blogspot.be/2014/03/beautifulsoup-cheat-sheet-parse-html-by.html"
   ]
  },
  {
   "cell_type": "code",
   "execution_count": 84,
   "metadata": {
    "collapsed": false,
    "deletable": true,
    "editable": true
   },
   "outputs": [],
   "source": [
    "soup = bs.BeautifulSoup(content, 'lxml')#'html.parser')"
   ]
  },
  {
   "cell_type": "markdown",
   "metadata": {
    "deletable": true,
    "editable": true
   },
   "source": [
    "The soup object contains the parsed HTML in the original raw document.\n"
   ]
  },
  {
   "cell_type": "code",
   "execution_count": 85,
   "metadata": {
    "collapsed": false,
    "deletable": true,
    "editable": true
   },
   "outputs": [
    {
     "name": "stdout",
     "output_type": "stream",
     "text": [
      "<!DOCTYPE html>\n",
      "<html xmlns=\"http://www.w3.org/1999/xhtml\">\n",
      " <head id=\"cm_ctl00_templateHead\">\n",
      "  <script src=\"//fluencycontent-schoolwebsite.netdna-ssl.com/Releases/3764.0/Scripts/jquery.min.js\" type=\"text/javascript\">\n",
      "  </script>\n",
      "  <meta content=\"text/html; charset=utf-8\" http-equiv=\"Content-Type\"/>\n",
      "  <meta content=\"Visit our website regularly for admissions guidelines, pupil resources, latest news stories, upcoming events and important notices.\" name=\"description\"/>\n",
      "  <meta content=\"School web\n"
     ]
    }
   ],
   "source": [
    "print soup.prettify()[0:500]"
   ]
  },
  {
   "cell_type": "code",
   "execution_count": 90,
   "metadata": {
    "collapsed": false,
    "deletable": true,
    "editable": true,
    "scrolled": false
   },
   "outputs": [
    {
     "data": {
      "text/plain": [
       "<title>\n",
       "\tHome | Soho Parish Primary\n",
       "</title>"
      ]
     },
     "execution_count": 90,
     "metadata": {},
     "output_type": "execute_result"
    }
   ],
   "source": [
    "soup.title"
   ]
  },
  {
   "cell_type": "code",
   "execution_count": 93,
   "metadata": {
    "collapsed": false,
    "deletable": true,
    "editable": true,
    "scrolled": true
   },
   "outputs": [
    {
     "data": {
      "text/plain": [
       "<p><span style=\"background-color: transparent; line-height: 22px;\">Soho Parish is a small school situated in the heart of London. We are a Church of England school and our values are firmly rooted in Christian principles. We have no faith criteria for entry, however, and serve our local community.</span></p>"
      ]
     },
     "execution_count": 93,
     "metadata": {},
     "output_type": "execute_result"
    }
   ],
   "source": [
    "soup.p # first paragraph tag"
   ]
  },
  {
   "cell_type": "code",
   "execution_count": 94,
   "metadata": {
    "collapsed": false,
    "deletable": true,
    "editable": true
   },
   "outputs": [
    {
     "data": {
      "text/plain": [
       "<a href=\"mailto:office@sohoparish.co.uk\">office@sohoparish.co.uk</a>"
      ]
     },
     "execution_count": 94,
     "metadata": {},
     "output_type": "execute_result"
    }
   ],
   "source": [
    "soup.a # first link tag"
   ]
  },
  {
   "cell_type": "markdown",
   "metadata": {
    "deletable": true,
    "editable": true
   },
   "source": [
    "Tags:  \n",
    "https://developer.mozilla.org/en-US/docs/Web/HTML/Element\n",
    "\n",
    "https://www.w3schools.com/TAgs/"
   ]
  },
  {
   "cell_type": "raw",
   "metadata": {
    "deletable": true,
    "editable": true
   },
   "source": [
    "# for searching tags\n",
    "soup.find()\n",
    "soup.find_all()"
   ]
  },
  {
   "cell_type": "code",
   "execution_count": 143,
   "metadata": {
    "collapsed": false,
    "deletable": true,
    "editable": true
   },
   "outputs": [
    {
     "data": {
      "text/plain": [
       "[<a class=\"rmLink rmRootLink\" href=\"Heads-Welcome\"><span class=\"rmText\">About</span></a>]"
      ]
     },
     "execution_count": 143,
     "metadata": {},
     "output_type": "execute_result"
    }
   ],
   "source": [
    "soup.findAll('a', text='About') # all links with text \"about\""
   ]
  },
  {
   "cell_type": "code",
   "execution_count": 151,
   "metadata": {
    "collapsed": false,
    "deletable": true,
    "editable": true,
    "scrolled": false
   },
   "outputs": [
    {
     "name": "stdout",
     "output_type": "stream",
     "text": [
      "Heads-Welcome\n"
     ]
    }
   ],
   "source": [
    "interesting_text = ['About', 'about', 'about us', 'About us']\n",
    "\n",
    "link_segment = soup.findAll('a', text=interesting_text)[0].attrs['href']\n",
    "print link_segment"
   ]
  },
  {
   "cell_type": "markdown",
   "metadata": {
    "deletable": true,
    "editable": true
   },
   "source": [
    "###  Testing the code"
   ]
  },
  {
   "cell_type": "code",
   "execution_count": 462,
   "metadata": {
    "collapsed": true,
    "deletable": true,
    "editable": true
   },
   "outputs": [
    {
     "name": "stdout",
     "output_type": "stream",
     "text": [
      "About-us or ethos urls: 8\n",
      "['http://www.sohoparish.co.uk/Introduction-curriculum', 'http://www.sohoparish.co.uk/../Introduction-curriculum', 'http://www.sohoparish.co.uk/britishvalues', 'http://www.sohoparish.co.uk/../../Introduction-curriculum', 'http://www.sohoparish.co.uk/../../School-values-n-goals', 'http://www.sohoparish.co.uk/../../britishvalues', 'http://www.sohoparish.co.uk/../School-values-n-goals', 'http://www.sohoparish.co.uk/../britishvalues']\n",
      "[u'We follow the Early Years Foundation Stage (EYFS) Curriculum in Reception and the National Curriculum in Key Stage 1 (Years 1 and 2) and Key Stage 2 (Years 3-6).   ', u\"Our curriculum is structured in all years through a 'creative curriculum' or 'topic-based' approach.  This means that we select a main topic and teach all subjects in the context of that topic. \", u'We aim to select topics based upon the enthusiasms and interests of the children themselves and consult with the children to develop our curriculum.  Topics change every half term, except in Foundation class where they change more frequently to follow the needs and interests of individual children or groups.', u\"For example, in Year 6 many of the pupils were interested in Japanese 'Manga' style art. \", u\"We used this enthusiasm to develop a 'Japan' topic, using books with Japanese characters such as 'Kensuke's\\u200b Kingdom' by Michael Morpurgo and films such as Howl's Moving Castle as stimulus for Literacy work.  Artwork was inspired by the illustrations from the texts and the Japanese clothing at a Victoria and Albert Museum exhibit we visited.  We studied the history and geography of Japan, with a special focus on volcanoes.  All the planned learning was taken from the National Curriculum programmes of study.\", u'Throughout our curriculum, we focus on preparing our children for life in modern Britain and encourage an appreciation of its virtues. See our page on Fundamental British Values for more info.', u'Sample overviews and topics for Years 1-6 are listed below. ', u'Click on a link for more information on our exciting child-led curriculum.', u\"Every half term (5-7 weeks) teachers send parents a 'topic map' (click here for an example) and a letter detailing the planned learning for the topic, so that they can support their child's learning at home. Further sample topic maps can be viewed by clicking on the highlighted topic links above.\", u'\\n23 Gt. Windmill Street, London, W1D 7LF\\n0207 432 7320\\noffice@sohoparish.co.uk\\n', u'23 Gt. Windmill Street, London, W1D 7LF', u'Key Stage 1 & 2 Curriculum', u'\\n\\xa9 2013 Soho Parish Primary Sitemap \\nSchool Website Design by School Website\\n', u'\\xa9 2013 Soho Parish Primary Sitemap ', u'School Website Design by School Website', u'\\nHIGH VISIBILITY Standard View Printer Friendly\\n', u'HIGH VISIBILITY Standard View Printer Friendly', u\"The DfE have recently reinforced the need 'to create and enforce a clear and rigorous expectation on all schools to promote the fundamental British values of democracy, the rule of law, individual liberty and mutual respect and tolerance of those with different faiths and beliefs.'\", u'The government set out its definition of British values in the 2011 Prevent Strategy and the key elements are highlighted below.  Many of these such as respect, tolerance and individual liberty are already explicitly referenced in our school values and at Soho Parish we regularly reinforce them in the following ways:', u'Democracy is an important part of our culture within the school. Pupils have the opportunity to have their voices heard through our Pupil Council as well as regular Pupil questionnaires. In addition, pupils get to nominate and vote on weekly class behaviour awards.', u'In 2015 we ran school-wide Elections, with 4 candidates from Y6 (representing the Progress, Tomorrow, Transform & Vision parties) contesting the vote. After a week of canvassing, manifesto-writing and a very lively hustings, everyone in school got to vote, with a 97% turnout.', u'The importance of Laws, whether they be those that govern the class, the school, or the country, are consistently reinforced throughout regular school days, as well as when dealing with behaviour. Children learn about our 8 school rules through school assemblies as well as in class and through our Soho Parish Rules Song; following the rules is encouraged through the awarding of house points and behaviour awards which always reference a rule.', u'Pupils are taught the value and reasons behind laws, that they govern and protect us, the responsibilities that this involves and the consequences when laws are broken. Visits from authorities such as the Fire Service, nurses etc. are regular parts of our calendar and help reinforce this message.  Specific curriculum topics further explore the importance of this value, for example this year our Year 6s undertook the study of the Magna Carta to celebrate its 800th anniversary.', u'Within school, pupils are actively encouraged to make choices, knowing that they are in a safe and supportive environment. As a school we educate and provide boundaries for young pupils to make choices safety, through of provision of a safe environment and empowering education.  Pupils are encouraged to know, understand and exercise their rights and personal freedoms and advise how to exercise these safely, for example through our E-Safety and PSHE lessons. Whether it be through choice of challenge, of how they record, of participation in our numerous extra-curricular clubs and opportunities, pupils are given the freedom to make choices.', u\"One of our school values is 'Respect' and pupils have been part of discussions and assemblies related to what this means and how it is shown. This is reiterated through our school rules, as well as our behaviour policy.\", u'Tolerance of those of Different Faiths and Beliefs', u' This is achieved through enhancing pupils understanding of their place in a culturally diverse society and by giving them opportunities to experience such diversity.', u'Assemblies and discussions involving prejudices and prejudice-based bullying have been followed and supported by learning in RE and PSHE as well as an Anti-Bullying week in October.', u\"We also celebrate diversity throughout our curriculum in various ways. We invite parents in to class to showcase their own culture (for example taking a Spanish lesson or playing Cuban music), participating in various religious celebrations such as Hannukah, Easter and Chinese New Year with community partners, and celebrating our families' multi-ethnic backgrounds through our International Evening.  In recognition of some of our significant language minorities, we offer a Chinese-language newsletter as well as English, Bengali and Chinese-language coffee mornings.\", u'Everything we do at Soho Parish is driven by our five values, which have been developed in consultation with children, staff, governors and parents. As an Anglican school, our values have their roots in the Christian faith and are outlined below.', u\"The Christian faith teaches that 'with God nothing is impossible' and Jesus encouraged his disciples to step out in faith and live 'life in all its fullness'. It was this belief which inspired members of St Anne's Church in 1699 to try and start a school for the 'poor children' of Soho so that they would have  the opportunity to have better futures than if they could not read or write. \", u'We believe that there are no limits to our potential.', u\"Writing in Psalm 139 King David wrote 'I thank you O God, for I am fearfully and wonderfully made'. David wasn't bragging - he just recognised that God makes all people to be awesome and capable of amazing things. \", u\"We listen to and value everyone's views. \", u'We treat everyone as we would like to be treated.', u\"Jesus said 'treat others as you would like them to treat you' it's the Golden Rule and is common to many world faiths. \", u'We recognise we are all unique with individual needs.', u\"Fundamental to the Jewish- Christian tradition is that though we are all different each one of us is'made in the image of God'- this means that everyone is precious, special and to be valued.\", u'We are a warm and welcoming community', u\"The Christian service of baptism recognises that we are all  'children of one Heavenly Father'. Jesus teaches us to think of others as our brothers and sisters and especially to welcome those who are different or unloved by others.\", u'Values such as respect also fit with our wider promotion of fundamental British values, which we do in a variety of ways such as learning about the rule of law and participating in democracy. Click here for more information.', u'In addition, our governing body sets strategic goals. Our goals for this academic year are as follows (click on picture for larger image):']\n"
     ]
    }
   ],
   "source": [
    "wp1 = src.get_webpage_info('http://www.sohoparish.co.uk/', verbose=True)"
   ]
  },
  {
   "cell_type": "code",
   "execution_count": 463,
   "metadata": {
    "collapsed": true,
    "deletable": true,
    "editable": true
   },
   "outputs": [
    {
     "name": "stdout",
     "output_type": "stream",
     "text": [
      "About-us or ethos urls: 2\n",
      "['http://www.wcsch.com/About-Us', 'http://www.wcsch.com/Prospectus-Request']\n",
      "[u'Ours is a school with a Christian foundation and character but we welcome boys of all faiths and of no faith. Our strong moral and spiritual ethos ensures pupils develop and prosper during their time at our school.', u'With only 140 boys admitted into each year group, Westminster City School is relatively small. This enables us to get to know our pupils as individuals quickly, teach in small groups and ensure every pupil enjoys coming to school and challenging themselves to be the best they can.', u\"The school's hardworking and committed staff deliver the curriculum in a way that ensures all our pupils are able to learn and achieve to the best of their ability. Our GCSE results are well above the national average with pupils achieving results that are in the top third nationally. Class sizes are often under 20 enabling those who need extra support in English and mathematics to receive it, sometimes on a one-to-one basis. Those who are able to take their exams early do so, giving them the best chance of obtaining the grades required for entry into top universities. Every decision we make at our Westminster School is focused on helping our pupils reach their maximum potential.\", u\"The school's Christian ethos and its promotion of cultural diversity permeate all aspects of the school community. Student behaviour is good in and out of lessons and they feel safe...\", u\"Our Westminster school has enjoyed one of its most successful years of GSCE examination results. 73% of our pupils have gained at least 5 GCSE grades A* - C including English & Maths. Overall the 2015 results were outstanding and a testament to all the hard work put in by the boys and staff. Fifteen boys achieved at least 8 A*/A grades.  Read more about Westminster City Boy's school exam results here.\", u'Westminster City School and Sixth Form offers a curriculum that meets the needs of individual learners and allows them every opportunity for success. The curriculum is broad, rich and flexible. It provides all pupils with a firm grasp of the fundamentals whilst allowing an appropriate degree of specialisation and depth. A focus on progress in English and mathematics is at the heart of our curriculum providing a strong foundation for subsequent study at GCSE and A Level. Read more here.', u'\"Westminster City has a welcoming environment both as a school and as a community. When I joined the school I settled in quickly and made friends from day one.\\' Ofsted 2015', u'Copyright \\xa9 Westminster City School |', u'School Web Design by School Website', u'\\nAbout UsTeaching & LearningSchool LifeSixth FormAdmissionsNews & EventsParentsStaff\\n', u'Teaching & Learning\\n\\nCurriculum overviewKey Stage 3Key Stage 4Key Stage 5LiteracyNumeracyExam ResultsSpecial EducationLanguage Support\\n\\n', u'\\nCurriculum overviewKey Stage 3Key Stage 4Key Stage 5LiteracyNumeracyExam ResultsSpecial EducationLanguage Support\\n', u'School Life\\n\\nProgress & WelfareUniformSchool HoursSchool ClubsOutside the ClassroomCadetsSchool Meals\\n\\n', u'\\nProgress & WelfareUniformSchool HoursSchool ClubsOutside the ClassroomCadetsSchool Meals\\n', u'Sixth Form\\n\\nSmall Family AtmosphereSixth Form Curriculum University DestinationsSixth Form CentreExam ResultsFAQsApply for a Place\\n\\n', u'\\nSmall Family AtmosphereSixth Form Curriculum University DestinationsSixth Form CentreExam ResultsFAQsApply for a Place\\n', u'Admissions\\n\\nOpen events and toursYear 7 admissionsYear 12 AdmissionsCasual AdmissionsProspectus Request\\n\\n', u'\\nOpen events and toursYear 7 admissionsYear 12 AdmissionsCasual AdmissionsProspectus Request\\n', u'News & Events\\n\\nLatest NewsLatest PhotosCalendarTerm DatesNewsletterNews Archive\\n\\n', u'Parents\\n\\nReport an AbsenceOnline ResourcesPoliciesLetters HomeWeekly BulletinContact Us\\n\\n', u'\\nReport an AbsenceOnline ResourcesPoliciesLetters HomeWeekly BulletinContact Us\\n', u'Our prospectus is designed to give an insight into life at Westminster City School. Our school is more than just a place in the league tables or academic results, if you would like to find out more about our ethos, culture, curriculum and all the information you as a parent will need, please fill in the form below.']\n"
     ]
    }
   ],
   "source": [
    "wp2 = src.get_webpage_info('http://www.wcsch.com/', verbose=True)"
   ]
  },
  {
   "cell_type": "code",
   "execution_count": 464,
   "metadata": {
    "collapsed": true,
    "deletable": true,
    "editable": true
   },
   "outputs": [
    {
     "name": "stdout",
     "output_type": "stream",
     "text": [
      "About-us or ethos urls: 2\n",
      "['http://www.oasisacademysouthbank.org/content/about-us-27', 'http://www.oasisacademysouthbank.org/content/vision-values-27']\n",
      "[u'Oasis Academy South Bank opened in September 2013 - a new secondary school serving the local Waterloo community.  It offers a small, safe, learning environment for local children, with Outstanding (Ofsted 2015) educational opportunities where every student can reach their full potential.', u'Oasis South Bank is part of the Oasis global family \\xa9 Oasis Charitable Trust 2016\\n\\t\\tOasis Community Learning is a Company Limited by Guarantee registered in England and Wales number 05398529 and an Exempt Charity,\\n\\t\\tRegistered address 75 Westminster Bridge Road, London SE1 7HS  \\u2022  Telephone: 020 7921 4200', u'\\n\\tOasis is a Christian foundation serving all regardless of faith.', u\"All young people, regardless of starting point, will 'Climb the STAIRS to Greatness' at Oasis Academy South Bank. Through love, nurture and a rigorous academic focus,Oasis Academy South Bank students will ultimately be successfully and happily employed in a career with prospects and become model citizens.\", u'S-Scholarship - We focus relentlessly on securing outstanding academic qualifications and developing a love of learning for all our students.', u'T-Transformation - We believe that everyone can change for the better and everyone has the power to change and influence others for the better.', u'A-Aspiration - We know if you aim high and believe, then you can become anyone or do anything.', u\"I-Inclusion - We believe we are one family: we never make anyone feel isolated or alone. We believe in the inclusion of a whole child's development: academically,culturally,socially,and emotionally.\", u\"R-Resilience - We understand that 'greatness' does not come without huge amounts of hard work and effort and we know that we must never give up.\", u'S-Social Responsibility - We care for our community and help others whenever we can.']\n"
     ]
    }
   ],
   "source": [
    "wp7 = src.get_webpage_info('http://www.oasisacademysouthbank.org/', verbose=True) "
   ]
  },
  {
   "cell_type": "markdown",
   "metadata": {
    "deletable": true,
    "editable": true
   },
   "source": [
    "### Scraping JavaScript pages"
   ]
  },
  {
   "cell_type": "markdown",
   "metadata": {
    "deletable": true,
    "editable": true
   },
   "source": [
    "http://techstonia.com/scraping-with-phantomjs-and-python.html"
   ]
  },
  {
   "cell_type": "code",
   "execution_count": 465,
   "metadata": {
    "collapsed": true,
    "deletable": true,
    "editable": true
   },
   "outputs": [],
   "source": [
    "url = 'http://www.oasisacademysouthbank.org/'"
   ]
  },
  {
   "cell_type": "code",
   "execution_count": 186,
   "metadata": {
    "collapsed": false,
    "deletable": true,
    "editable": true,
    "scrolled": true
   },
   "outputs": [
    {
     "name": "stdout",
     "output_type": "stream",
     "text": [
      "['http://www.oasisacademysouthbank.org//content/about-us-27', 'http://www.oasisacademysouthbank.org//admission-form-Prospectus', 'http://www.oasisacademysouthbank.org//content/vision-values-27']\n"
     ]
    }
   ],
   "source": [
    "import platform\n",
    "from selenium import webdriver\n",
    "\n",
    "# PhantomJS for different operating systems\n",
    "if platform.system() == 'Windows':  \n",
    "    PHANTOMJS_PATH = './phantomjs/phantomjs.exe'\n",
    "elif platform.system() == 'Darwin':  \n",
    "    PHANTOMJS_PATH = './phantomjs/phantomjs_mac'\n",
    "else:  \n",
    "    PHANTOMJS_PATH = './phantomjs/phantomjs_linux'\n",
    "\n",
    "# here we'll use pseudo browser PhantomJS\n",
    "browser = webdriver.PhantomJS(PHANTOMJS_PATH)\n",
    "browser.get(url)\n",
    "soup = bs.BeautifulSoup(browser.page_source, 'lxml')\n",
    "browser.quit()\n",
    "\n",
    "def match_souplinktag(li, links, keywords=src.KEYWORDS):\n",
    "    \"\"\"\"\"\"\n",
    "    # getting all the links with href attribute\n",
    "    if li.has_attr('href'):                \n",
    "        # separating the last segment of the href\n",
    "        segment_link = li.get('href')\n",
    "        if segment_link.endswith('/'):\n",
    "            segment_link = segment_link.split('/')[-2].lower()\n",
    "        else:\n",
    "            segment_link = segment_link.split('/')[-1].lower()\n",
    "        # comparing href to the keywords\n",
    "        if any(key.lower() in segment_link for key in keywords):\n",
    "            found_link = li.get('href')\n",
    "            if not found_link.startswith('http'):\n",
    "                found_link = url+found_link\n",
    "            if found_link not in links:\n",
    "                links.append(found_link)\n",
    "    return links\n",
    "\n",
    "urls_about = []\n",
    "linktags = soup.find_all('a')\n",
    "for li in linktags:\n",
    "    urls_about = match_souplinktag(li, urls_about, keywords=src.KEYWORDS)\n",
    "                \n",
    "print urls_about\n",
    "    "
   ]
  },
  {
   "cell_type": "markdown",
   "metadata": {
    "deletable": true,
    "editable": true
   },
   "source": [
    "Test on problematic URLs:"
   ]
  },
  {
   "cell_type": "raw",
   "metadata": {
    "deletable": true,
    "editable": true
   },
   "source": [
    "url = 'http://www.oasisacademysouthbank.org/'\n",
    "    JS. Works fine\n",
    "    ['http://www.oasisacademysouthbank.org//content/about-us-27', \n",
    "     'http://www.oasisacademysouthbank.org//admission-form-', \n",
    "     'http://www.oasisacademysouthbank.org//content/vision-values-27']\n",
    "\n",
    "url = 'http://www.svpschool-primary.org.uk/'\n",
    "    JS. Works fine now\n",
    "    ['http://www.svpcatholicprimary.org/prospectus']\n",
    "    \n",
    "url = 'http://www.ourladydolours.co.uk/'\n",
    "    Actually not JS or mixed HTML JS. I improved the HTML parsing function and now it\n",
    "    correctly retrieves most of the 'about us' link and the needed text.\n",
    "    ['http://www.ourladydolours.co.uk/School-Information', \n",
    "     'http://www.ourladydolours.co.uk/Vision-Values/']\n",
    "\n",
    "url = 'http://www.pimlicoacademy.org/'\n",
    "    Actually not JS or mixed HTML JS. I improved the HTML parsing function and now it\n",
    "    correctly retrieves most of the 'about us' link and the needed text.\n",
    "    ['http://www.pimlicoacademy.org//page/?title=Ethos%2C+Values+%26amp%3B+Qualities&pid=12']\n",
    "    \n",
    "url = 'http://www.bethnalgreenacademy.co.uk/'\n",
    "    Actually not JS or mixed HTML JS. I improved the HTML parsing function and now it\n",
    "    correctly retrieves most of the 'about us' link and the needed text.\n",
    "    ['http://www.gsacademyshoreditch.org.uk/ethosvision/']\n",
    "    \n",
    "url = 'http://www.randalcremer.hackney.sch.uk/'\n",
    "    Actually not JS or mixed HTML JS. I improved the HTML parsing function and now it\n",
    "    correctly retrieves most of the 'about us' link and the needed text.\n",
    "    ['http://www.randalcremer.hackney.sch.uk/our-school/ethos-and-values/']\n",
    "    \n",
    "url = 'http://www.compass-schools.com/'\n",
    "    Actually not JS or mixed HTML JS. I improved the HTML parsing function and now it\n",
    "    correctly retrieves most of the 'about us' link and the needed text.\n",
    "    ['http://www.compass-schools.com/about-us/our-vision/', \n",
    "     'http://www.compass-schools.com/for-parents/11-16-/', \n",
    "     'http://www.compass-schools.com/for-parents/11-16--2/', \n",
    "     'http://www.compass-schools.com/curriculum/core-values/', \n",
    "     'http://www.compass-schools.com/compass-schools/about-us/']\n",
    "\n",
    "url = 'http://www.rhylprim.camden.sch.uk/'\n",
    "    Actually not JS or mixed HTML JS. I improved the HTML parsing function and now it\n",
    "    correctly retrieves most of the 'about us' link and the needed text.\n",
    "    ['http://www.rhylprim.camden.sch.uk/School-Info', \n",
    "     'http://www.rhylprim.camden.sch.uk/British-Values']"
   ]
  },
  {
   "cell_type": "code",
   "execution_count": 309,
   "metadata": {
    "collapsed": true,
    "deletable": true,
    "editable": true
   },
   "outputs": [
    {
     "name": "stdout",
     "output_type": "stream",
     "text": [
      "['http://www.rhylprim.camden.sch.uk/School-Info', 'http://www.rhylprim.camden.sch.uk/British-Values', 'http://www.rhylprim.camden.sch.uk/../School-Info', 'http://www.rhylprim.camden.sch.uk/../British-Values']\n"
     ]
    },
    {
     "data": {
      "text/plain": [
       "[u'Together we learn, achieve and succeed',\n",
       " u'Rhyl is a harmonious two-form entry school in the heart of Kentish Town, within the Borough of Camden. We have very high expectations for all our pupils and we deliver a diverse and enriching curriculum in surroundings that allow children to feel happy and safe',\n",
       " u\"Rhyl's commitment to creativity and the arts has been recognized through our achievement of the Arts Mark Gold award. All children have weekly music lessons from our music specialist, they have the opportunity to learn a range of instruments for free and also have the chance to record in our state of the art recording studio.\",\n",
       " u'At Rhyl we believe passionately in the power of outdoor learning to inspire our children; we have won numerous awards for our outdoor garden which boasts a mini orchard, a secret herb garden and a wood-fired pizza oven.',\n",
       " u'We offer a breakfast club which runs from 8am every day. It is open to pupils from Year 2 to Year 6 who can enjoy a delicious and nutritious breakfast, free of charge.',\n",
       " u'Classes for 2016 - 2017',\n",
       " u'Classes for 2016 - 2017',\n",
       " u'Rhyl Primary School, Rhyl Street, London, NW5 3HB.',\n",
       " u\"The DfE have recently reinforced the need 'to create and enforce a clear and rigorous expectation on all schools to promote the fundamental British values of democracy, the rule of law, individual liberty and mutual respect and tolerance of those with different faiths and beliefs.'\",\n",
       " u'The Government set out its definition of British values in the 2011 Prevent Strategy, and these values have been reiterated in 2014. At Rhyl, these values are reinforced and shared regularly with the children in the following ways:',\n",
       " u'British Values = Rhyl Values',\n",
       " u'Democracy - We all have a voice and we are all listened to: We have a School Council and we all get to vote so we can make important decisions about our school\\n\\nThe Rule of Law - We follow our Golden Rules to make sure everyone is safe, happy and achieving well at school',\n",
       " u'Individual Liberty - We all have the right to choose: We help each other to make choices that are safe, wise and considerate',\n",
       " u\"Mutual Respect - We show empathy and appreciation for each other. We are all different but we recognise each other's special qualities\",\n",
       " u'Tolerance of Those With Different Faiths And Beliefs - We celebrate our diversity. While we come from many different parts of the world and have different faiths, we are united as one: Our Rhyl Community',\n",
       " u'Together we learn, achieve and succeed',\n",
       " u'Classes for 2016 - 2017',\n",
       " u'Classes for 2016 - 2017',\n",
       " u'Rhyl Primary School, Rhyl Street, London, NW5 3HB.',\n",
       " u'400 Bad Request: This  request contains malformed syntax and could not be understood by the  server.  Please review your request and  make the necessary modifications to comply with HTTP standards before  resubmitting this request.',\n",
       " u'DOSarrest  Internet Security is a cloud based fully managed DDoS protection service.  This request is unable to complete due to the  above error and has not been filtered by DOSarrest.  Please contact the administrator of \\r\\n\\r\\nfunction myFunction3() {\\r\\n    var x = location.host;\\r\\n    document.getElementById(\"host3\").innerHTML = x;\\r\\n}\\r\\n\\r\\n             to resolve this issue.',\n",
       " u'400 Bad Request: This  request contains malformed syntax and could not be understood by the  server.  Please review your request and  make the necessary modifications to comply with HTTP standards before  resubmitting this request.',\n",
       " u'DOSarrest  Internet Security is a cloud based fully managed DDoS protection service.  This request is unable to complete due to the  above error and has not been filtered by DOSarrest.  Please contact the administrator of \\r\\n\\r\\nfunction myFunction3() {\\r\\n    var x = location.host;\\r\\n    document.getElementById(\"host3\").innerHTML = x;\\r\\n}\\r\\n\\r\\n             to resolve this issue.']"
      ]
     },
     "execution_count": 309,
     "metadata": {},
     "output_type": "execute_result"
    }
   ],
   "source": [
    "src.get_webpage_info('http://www.rhylprim.camden.sch.uk/', debug=True)"
   ]
  },
  {
   "cell_type": "code",
   "execution_count": 314,
   "metadata": {
    "collapsed": true,
    "deletable": true,
    "editable": true
   },
   "outputs": [
    {
     "name": "stdout",
     "output_type": "stream",
     "text": [
      "['http://www.oasisacademysouthbank.org//content/about-us-27', 'http://www.oasisacademysouthbank.org//content/vision-values-27']\n"
     ]
    },
    {
     "data": {
      "text/plain": [
       "[u'Oasis Academy South Bank opened in September 2013 - a new secondary school serving the local Waterloo community.  It offers a small, safe, learning environment for local children, with Outstanding (Ofsted 2015) educational opportunities where every student can reach their full potential.',\n",
       " u'Oasis South Bank is part of the Oasis global family \\xa9 Oasis Charitable Trust 2016\\n\\t\\tOasis Community Learning is a Company Limited by Guarantee registered in England and Wales number 05398529 and an Exempt Charity,\\n\\t\\tRegistered address 75 Westminster Bridge Road, London SE1 7HS  \\u2022  Telephone: 020 7921 4200',\n",
       " u'\\n\\tOasis is a Christian foundation serving all regardless of faith.']"
      ]
     },
     "execution_count": 314,
     "metadata": {},
     "output_type": "execute_result"
    }
   ],
   "source": [
    "src.get_webpage_info('http://www.oasisacademysouthbank.org/', debug=True)"
   ]
  },
  {
   "cell_type": "markdown",
   "metadata": {
    "deletable": true,
    "editable": true
   },
   "source": [
    "###  Testing problematic URLs and improving initial prototype"
   ]
  },
  {
   "cell_type": "markdown",
   "metadata": {
    "deletable": true,
    "editable": true
   },
   "source": [
    "We can handle now JS and have a more versatile code.  All the above cases failes with the first prototype, used on 200 websites. Most are now succesfully scraped except with a few exceptions (see comments in front)."
   ]
  },
  {
   "cell_type": "code",
   "execution_count": 412,
   "metadata": {
    "collapsed": true,
    "deletable": true,
    "editable": true
   },
   "outputs": [
    {
     "name": "stdout",
     "output_type": "stream",
     "text": [
      "Total links: 167\n",
      "About-us or ethos urls: 3\n",
      "['http://www.wappinghigh.org/about-us', 'http://www.wappinghigh.org/prospectus', 'http://www.wappinghigh.org/ethos-and-aims']\n"
     ]
    },
    {
     "data": {
      "text/plain": [
       "[u'Raising aspirations, broadening horizons and ensuring better outcomes for all its students, Wapping High School builds upon the diversity of student backgrounds, providing all students with a truly personalised curriculum to enable enhanced learning and the development of inquisitive minds.',\n",
       " u'The school day at Wapping High School is extended to allow all students to participate in a range of exciting and stimulating enrichment activities.',\n",
       " u'Wapping and Shadwell are home to eight well \\xadsupported primary schools, attended by around 2,000 pupils drawn from a genuinely mixed community. Historically on reaching the age of 11, many of these children had no obvious secondary school to go to. Each year a significant number of families moved out of the area as a result of this lack of provision. In 2012, the parent led Wapping and Shadwell Secondary Education Trust (WSSET) set up Wapping High School, a co\\xad-educational free school for children aged 11 - \\xad16.',\n",
       " u'Headteacher:                            Karin Rowsell                 Chair of Governors:                  Mr Jon Cheyne',\n",
       " u'Type of school:                         Free School          Owned by:                                The Wapping and Shadwell Secondary Education Trust (WSSET)         ',\n",
       " u'11 - 16            Secular           Co-educational',\n",
       " u'84  170 (in 2014), 420 (from 2016)                          21',\n",
       " u'Age range:                     Denomination:               System:                        ',\n",
       " u'Specialism:                     ',\n",
       " u'No. students per year:    Total no. students:          Average class size:         ',\n",
       " u'% students on FSM:        51.1 %% students with SEND:   21.7 %% students with EAL:      18.1 %',\n",
       " u'wapping high school | 153 Commercial Rd, London, E1 2DA, United Kingdom',\n",
       " u'Wapping High School: a 11-16 community school',\n",
       " u'Download the 2014-2015 Wapping High School Prospectusdownload',\n",
       " u'If you would like a personal tour of the school please contact the school office on 020 7193 6337.',\n",
       " u'New open dates to be added in the New Year 2016',\n",
       " u'If you are interested in joining our year 7, 8, 9 or 10 in September 2015, we have limited places available.',\n",
       " u'Do contact the school for a tour and meeting with the Headteacher.',\n",
       " u'A limited number of places are still available for students to join us in year 7, 8, 9 or 10. Click here to apply',\n",
       " u'Admissions for September 2015 are     co-ordinated by Tower Hamlets with full details in their admissions booklet.',\n",
       " u'Wapping High School promotes an inclusive ethos, in which diversity of need and ability is acknowledged and nurtured.',\n",
       " u'Every aspect of school life is guided by a strong ethical code, encouraging social awareness to help students understand and meet with confidence the challenges of a diverse and changing society and the world of work. Through building positive attitudes for learning and a strong sense of personal responsibility, our students develop as flexible, resourceful and independent learners, ready for successful lives. ',\n",
       " u'Wapping High School is deliberately small and has a strong sense of school community. ',\n",
       " u\"Students from all years are organised into vertical 'houses' to encourage interaction across the school. Teachers know all their students individually.\",\n",
       " u\"Families form part of the school community and are fully involved with their children's education. Parents, students and school work closely together to ensure that every student is expected to achieve highly and does so.\",\n",
       " u\"Wapping High School's ethos and values ensure that children are safe, healthy, positively contribute to their whole community, and achieve economic and academic well-being in adult life. \",\n",
       " u'Importantly, all students must enjoy attending school and be deeply engaged in their learning.',\n",
       " u'encourage students to be flexible, independent and resourceful learners for life;raise aspirations of both students and staff;demand high expectations and high attainment from both students and staff;provide all students with the qualifications for a sound economic future;produce confident, polite and socially responsible young adults;create a school which is environmentally sustainable and financially secure;strengthen community cohesion by being a keystone in the community',\n",
       " u'encourage students to be flexible, independent and resourceful learners for life;',\n",
       " u'raise aspirations of both students and staff;',\n",
       " u'demand high expectations and high attainment from both students and staff;',\n",
       " u'provide all students with the qualifications for a sound economic future;',\n",
       " u'produce confident, polite and socially responsible young adults;',\n",
       " u'create a school which is environmentally sustainable and financially secure;',\n",
       " u'strengthen community cohesion by being a keystone in the community',\n",
       " u\"recognising that high-quality teachers are the school's principal asset, they will be supported, rewarded and motivated;setting high, individual expectations for every student that reflect their personal strengths and support them to surpass their potential;offering a personalised learning programme with academic and vocational learning pathways;requiring the students to participate in a self-assessed exploration of civics, society and ethics as part of their curriculumembracing the role of parents as part of the school life and culture through the innovative use of technology to enhance communication and participation\",\n",
       " u\"recognising that high-quality teachers are the school's principal asset, they will be supported, rewarded and motivated;\",\n",
       " u'setting high, individual expectations for every student that reflect their personal strengths and support them to surpass their potential;',\n",
       " u'offering a personalised learning programme with academic and vocational learning pathways;',\n",
       " u'requiring the students to participate in a self-assessed exploration of civics, society and ethics as part of their curriculum',\n",
       " u'embracing the role of parents as part of the school life and culture through the innovative use of technology to enhance communication and participation',\n",
       " u'providing an accessible resource for education within the wider community;taking advantage of our location between the City of London and Docklands to foster deep and ongoing links between the banking sector, media and universities.',\n",
       " u'providing an accessible resource for education within the wider community;',\n",
       " u'taking advantage of our location between the City of London and Docklands to foster deep and ongoing links between the banking sector, media and universities.']"
      ]
     },
     "execution_count": 412,
     "metadata": {},
     "output_type": "execute_result"
    }
   ],
   "source": [
    "#url = 'http://www.ourladydolours.co.uk/'\n",
    "#url = 'http://www.oasisacademyjohanna.org/'\n",
    "#url = 'http://www.burdettcoutts.westminster.lgfl.net/' #hot a school apparently\n",
    "#url = 'http://www.oasisacademysouthbank.org/'\n",
    "#url = 'http://www.svpschool-primary.org.uk/'   # JS\n",
    "#url = 'http://www.sghsprimary.org.uk/' # no connection\n",
    "#url = 'http://www.southwark-rc-cathedral.org.uk/' # a cathedral\n",
    "#url = 'http://www.wtwschool.co.uk/'\n",
    "#url = 'http://www.friars.southwark.sch.uk/' # not responding\n",
    "#url = 'http://www.stalbanscamden.co.uk/'\n",
    "#url = 'http://www.pimlicoacademy.org/'\n",
    "#url = 'http://www.williamdavis.org.uk/'\n",
    "#url = 'http://www.serviteprimaryschool.co.uk/'\n",
    "#url = 'http://www.hungerfordschool.com/' # not found\n",
    "#url = 'http://www.bethnalgreenacademy.co.uk/'\n",
    "#url = 'http://www.randalcremer.hackney.sch.uk/'\n",
    "#url = 'http://www.ourladydolours.co.uk/'\n",
    "#url = 'http://www.columbia.towerhamlets.sch.uk/' # first one where the 'p' cannot be accessed\n",
    "#url = 'http://www.fox.rbkc.sch.uk/'\n",
    "#url = 'http://www.stpatricks.camden.sch.uk/'\n",
    "#url = 'http://www.kentishtown.camden.sch.uk/'\n",
    "#url = 'http://www.shaftesburypark.wandsworth.sch.uk/'\n",
    "#url = 'http://www.rhylprim.camden.sch.uk/'\n",
    "#url = 'http://www.sjbc.wandsworth.sch.uk/'\n",
    "#url = 'http://www.biglandgreen.towerhamlets.sch.uk/'\n",
    "#url = 'http://www.westminsteracademy.net/' # website not found in the hosting provider\n",
    "#url = 'http://www.mayflowerfederation.org.uk/' # website address changed, redirected\n",
    "url = 'http://www.wappinghigh.org/'\n",
    "\n",
    "src.get_webpage_info(url, debug=True)"
   ]
  },
  {
   "cell_type": "markdown",
   "metadata": {
    "deletable": true,
    "editable": true
   },
   "source": [
    "# Generating a DB (first method)"
   ]
  },
  {
   "cell_type": "markdown",
   "metadata": {
    "deletable": true,
    "editable": true
   },
   "source": [
    "We do a query search on http://www.oasisacademysouthbank.org/ with the following filters:\n",
    "\n",
    "- Primary and secondary schools.\n",
    "-  Ofsted ratings: outstanding [1], good [2], require improvement [3], inadequate [4]\n",
    "- London"
   ]
  },
  {
   "cell_type": "code",
   "execution_count": 129,
   "metadata": {
    "collapsed": true,
    "deletable": true,
    "editable": true
   },
   "outputs": [],
   "source": [
    "search_url = 'https://www.compare-school-performance.service.gov.uk/find-a-school-in-england?radius=3&orderby=&schoollevel=IsPrimary&schoollevel=IsSecondary&ofstedrating=1&ofstedrating=2&ofstedrating=3&ofstedrating=4&searchtype=search-by-location&keywords=Londres%2C+Royaume-Uni&LocationCoordinates=51.5073509%2C-0.12775829999998223&selectionState=1%2C0%2C0'"
   ]
  },
  {
   "cell_type": "markdown",
   "metadata": {
    "deletable": true,
    "editable": true
   },
   "source": [
    "Getting the metadata:"
   ]
  },
  {
   "cell_type": "code",
   "execution_count": 143,
   "metadata": {
    "collapsed": false,
    "deletable": true,
    "editable": true,
    "scrolled": false
   },
   "outputs": [
    {
     "name": "stdout",
     "output_type": "stream",
     "text": [
      "Getting info for page 1 \n",
      "Getting data for page 2\n",
      "Getting data for page 3\n",
      "Getting data for page 4\n",
      "Getting data for page 5\n"
     ]
    }
   ],
   "source": [
    "na_sc, li_sc, sco_sc, add_sc, lev_sc, ty_sc = get_schools_metadata(search_url)"
   ]
  },
  {
   "cell_type": "code",
   "execution_count": 211,
   "metadata": {
    "collapsed": false,
    "deletable": true,
    "editable": true
   },
   "outputs": [
    {
     "name": "stderr",
     "output_type": "stream",
     "text": [
      "100%|██████████| 222/222 [04:41<00:00,  1.23s/it]     | 1/222 [00:00<02:13,  1.65it/s]\n"
     ]
    }
   ],
   "source": [
    "links_websites_schools, links_csv_schools = get_schools_urls(li_sc)"
   ]
  },
  {
   "cell_type": "code",
   "execution_count": 39,
   "metadata": {
    "collapsed": false,
    "deletable": true,
    "editable": true
   },
   "outputs": [
    {
     "data": {
      "text/plain": [
       "['http://www.sohoparish.co.uk/',\n",
       " 'http://www.st-clementdanes.westminster.sch.uk/',\n",
       " 'http://www.stjosephs.camden.sch.uk/',\n",
       " 'http://www.stmwschool.org.uk/',\n",
       " 'http://www.wcsch.com/']"
      ]
     },
     "execution_count": 39,
     "metadata": {},
     "output_type": "execute_result"
    }
   ],
   "source": [
    "links_websites_schools[:5]"
   ]
  },
  {
   "cell_type": "code",
   "execution_count": 40,
   "metadata": {
    "collapsed": false,
    "deletable": true,
    "editable": true
   },
   "outputs": [
    {
     "data": {
      "text/plain": [
       "['https://www.compare-school-performance.service.gov.uk//download-school-data?urn=101131',\n",
       " 'https://www.compare-school-performance.service.gov.uk//download-school-data?urn=101127',\n",
       " 'https://www.compare-school-performance.service.gov.uk//download-school-data?urn=100041',\n",
       " 'https://www.compare-school-performance.service.gov.uk//download-school-data?urn=101138',\n",
       " 'https://www.compare-school-performance.service.gov.uk//download-school-data?urn=138312']"
      ]
     },
     "execution_count": 40,
     "metadata": {},
     "output_type": "execute_result"
    }
   ],
   "source": [
    "links_csv_schools[:5]"
   ]
  },
  {
   "cell_type": "markdown",
   "metadata": {
    "deletable": true,
    "editable": true
   },
   "source": [
    "When we can't parse: JS page, weird HTML structure that BS cannot parse or server not responding. For these links we put a None in the pandas DB."
   ]
  },
  {
   "cell_type": "markdown",
   "metadata": {
    "deletable": true,
    "editable": true
   },
   "source": [
    "*generate_schools_db* uses all the above functions for scraping the website with the schools information (https://www.compare-school-performance.service.gov.uk/). It returns (and saves to disk) a pandas table with the metadata plus the scraped \"about us\" information. It handles properly unsuccessful requests (try/except). The \"about us\" information is scraped based on a set of HTML tags and a list of keywords, which by default is:\n",
    "\n",
    "['About', 'about', 'about us', 'ABOUT US', 'About Us', '', '', 'Ethos', 'ETHOS', 'Our School', 'OUR SCHOOL']"
   ]
  },
  {
   "cell_type": "code",
   "execution_count": 55,
   "metadata": {
    "collapsed": true,
    "deletable": true,
    "editable": true
   },
   "outputs": [],
   "source": [
    "df = generate_schools_db(search_url, save_csv='./data/schools_db.csv', about_tags=['a'], \n",
    "                          keywords=None, text_tags = ['p', 'li', 'ol', 'ul'])"
   ]
  },
  {
   "cell_type": "code",
   "execution_count": 41,
   "metadata": {
    "collapsed": true,
    "deletable": true,
    "editable": true
   },
   "outputs": [
    {
     "data": {
      "text/html": [
       "<div>\n",
       "<table border=\"1\" class=\"dataframe\">\n",
       "  <thead>\n",
       "    <tr style=\"text-align: right;\">\n",
       "      <th></th>\n",
       "      <th>address</th>\n",
       "      <th>csv</th>\n",
       "      <th>level</th>\n",
       "      <th>name</th>\n",
       "      <th>score</th>\n",
       "      <th>type</th>\n",
       "      <th>website</th>\n",
       "      <th>text</th>\n",
       "    </tr>\n",
       "  </thead>\n",
       "  <tbody>\n",
       "    <tr>\n",
       "      <th>0</th>\n",
       "      <td>23 Great Windmill Street, London, W1D 7LF</td>\n",
       "      <td>https://www.compare-school-performance.service...</td>\n",
       "      <td>Primary</td>\n",
       "      <td>Soho Parish CofE Primary School</td>\n",
       "      <td>1</td>\n",
       "      <td>Maintained School</td>\n",
       "      <td>http://www.sohoparish.co.uk/</td>\n",
       "      <td>[As a Church of England school our values are ...</td>\n",
       "    </tr>\n",
       "    <tr>\n",
       "      <th>1</th>\n",
       "      <td>Drury Lane, London, WC2B 5SU</td>\n",
       "      <td>https://www.compare-school-performance.service...</td>\n",
       "      <td>Primary</td>\n",
       "      <td>St Clement Danes CofE Primary School</td>\n",
       "      <td>1</td>\n",
       "      <td>Maintained School</td>\n",
       "      <td>http://www.st-clementdanes.westminster.sch.uk/</td>\n",
       "      <td>[Located in the heart of Covent Garden, London...</td>\n",
       "    </tr>\n",
       "    <tr>\n",
       "      <th>2</th>\n",
       "      <td>Macklin Street, London, WC2B 5NA</td>\n",
       "      <td>https://www.compare-school-performance.service...</td>\n",
       "      <td>Primary</td>\n",
       "      <td>St Josephs Primary School</td>\n",
       "      <td>1</td>\n",
       "      <td>Maintained School</td>\n",
       "      <td>http://www.stjosephs.camden.sch.uk/</td>\n",
       "      <td>[When  parents and children talk about the St....</td>\n",
       "    </tr>\n",
       "    <tr>\n",
       "      <th>3</th>\n",
       "      <td>18 Old Pye Street, London, SW1P 2DG</td>\n",
       "      <td>https://www.compare-school-performance.service...</td>\n",
       "      <td>Primary</td>\n",
       "      <td>St Matthew's School, Westminster</td>\n",
       "      <td>2</td>\n",
       "      <td>Maintained School</td>\n",
       "      <td>http://www.stmwschool.org.uk/</td>\n",
       "      <td>[St Matthew's School is a thriving one form en...</td>\n",
       "    </tr>\n",
       "    <tr>\n",
       "      <th>4</th>\n",
       "      <td>55 Palace Street, London, SW1E 5HJ</td>\n",
       "      <td>https://www.compare-school-performance.service...</td>\n",
       "      <td>Secondary and 16 to 18</td>\n",
       "      <td>Westminster City School</td>\n",
       "      <td>2</td>\n",
       "      <td>Academy</td>\n",
       "      <td>http://www.wcsch.com/</td>\n",
       "      <td>[Ours is a school with a Christian foundation ...</td>\n",
       "    </tr>\n",
       "  </tbody>\n",
       "</table>\n",
       "</div>"
      ],
      "text/plain": [
       "                                     address  \\\n",
       "0  23 Great Windmill Street, London, W1D 7LF   \n",
       "1               Drury Lane, London, WC2B 5SU   \n",
       "2           Macklin Street, London, WC2B 5NA   \n",
       "3        18 Old Pye Street, London, SW1P 2DG   \n",
       "4         55 Palace Street, London, SW1E 5HJ   \n",
       "\n",
       "                                                 csv                   level  \\\n",
       "0  https://www.compare-school-performance.service...                 Primary   \n",
       "1  https://www.compare-school-performance.service...                 Primary   \n",
       "2  https://www.compare-school-performance.service...                 Primary   \n",
       "3  https://www.compare-school-performance.service...                 Primary   \n",
       "4  https://www.compare-school-performance.service...  Secondary and 16 to 18   \n",
       "\n",
       "                                   name  score               type  \\\n",
       "0       Soho Parish CofE Primary School      1  Maintained School   \n",
       "1  St Clement Danes CofE Primary School      1  Maintained School   \n",
       "2             St Josephs Primary School      1  Maintained School   \n",
       "3      St Matthew's School, Westminster      2  Maintained School   \n",
       "4               Westminster City School      2            Academy   \n",
       "\n",
       "                                          website  \\\n",
       "0                    http://www.sohoparish.co.uk/   \n",
       "1  http://www.st-clementdanes.westminster.sch.uk/   \n",
       "2             http://www.stjosephs.camden.sch.uk/   \n",
       "3                   http://www.stmwschool.org.uk/   \n",
       "4                           http://www.wcsch.com/   \n",
       "\n",
       "                                                text  \n",
       "0  [As a Church of England school our values are ...  \n",
       "1  [Located in the heart of Covent Garden, London...  \n",
       "2  [When  parents and children talk about the St....  \n",
       "3  [St Matthew's School is a thriving one form en...  \n",
       "4  [Ours is a school with a Christian foundation ...  "
      ]
     },
     "execution_count": 41,
     "metadata": {},
     "output_type": "execute_result"
    }
   ],
   "source": [
    "df[:5]"
   ]
  },
  {
   "cell_type": "markdown",
   "metadata": {
    "deletable": true,
    "editable": true
   },
   "source": [
    "From these search query we end up with ~100 schools (and their mined text). We lose half of them  improving the websites mining. BeautifulSoup only handles HTML pages.  pages need to be addressed differently. The classic way of just sending the request to the site and parsing the html won’t work as  is not rendered and thus the body of the page is incomplete."
   ]
  },
  {
   "cell_type": "markdown",
   "metadata": {
    "deletable": true,
    "editable": true
   },
   "source": [
    "# Generating a first database (second method)"
   ]
  },
  {
   "cell_type": "markdown",
   "metadata": {
    "deletable": true,
    "editable": true
   },
   "source": [
    "Testing the second method with a short list of URNs obtained  in notebook ``DB_exploratory_analysis``. "
   ]
  },
  {
   "cell_type": "code",
   "execution_count": 415,
   "metadata": {
    "collapsed": true,
    "deletable": true,
    "editable": true
   },
   "outputs": [],
   "source": [
    "urns = [100322, 100324, 100326, 100328, 100331]"
   ]
  },
  {
   "cell_type": "code",
   "execution_count": 429,
   "metadata": {
    "collapsed": false,
    "deletable": true,
    "editable": true
   },
   "outputs": [
    {
     "data": {
      "text/plain": [
       "['http://www.avonmore.lbhf.sch.uk/',\n",
       " 'http://www.brackenbury.lbhf.sch.uk/',\n",
       " 'http://www.milescoverdaleprimary.co.uk/',\n",
       " 'http://www.floragardens.lbhf.sch.uk/',\n",
       " 'http://www.kenmont-primary.org/']"
      ]
     },
     "execution_count": 429,
     "metadata": {},
     "output_type": "execute_result"
    }
   ],
   "source": [
    "src.get_schools_urls(urns, mode='urn')"
   ]
  },
  {
   "cell_type": "markdown",
   "metadata": {
    "collapsed": true,
    "deletable": true,
    "editable": true
   },
   "source": [
    "We need a list of school URNs from the government databases. We can take this from the CSV databases (let's assume we have such CSV loaded in a DF called dbnew). If we filter out the closed schools we end up with 20551 schools for all UK."
   ]
  },
  {
   "cell_type": "code",
   "execution_count": 432,
   "metadata": {
    "collapsed": false,
    "deletable": true,
    "editable": true
   },
   "outputs": [
    {
     "data": {
      "text/plain": [
       "(20551, 16)"
      ]
     },
     "execution_count": 432,
     "metadata": {},
     "output_type": "execute_result"
    }
   ],
   "source": [
    "dbnew.shape"
   ]
  },
  {
   "cell_type": "code",
   "execution_count": 434,
   "metadata": {
    "collapsed": false,
    "deletable": true,
    "editable": true
   },
   "outputs": [],
   "source": [
    "list_urns = dbnew['URN'].tolist()"
   ]
  },
  {
   "cell_type": "code",
   "execution_count": 438,
   "metadata": {
    "collapsed": false,
    "deletable": true,
    "editable": true
   },
   "outputs": [],
   "source": [
    "dbnew['URN'].to_string('./data/list_urns.txt', index=False)"
   ]
  },
  {
   "cell_type": "code",
   "execution_count": 446,
   "metadata": {
    "collapsed": false,
    "deletable": true,
    "editable": true
   },
   "outputs": [
    {
     "data": {
      "text/plain": [
       "20551"
      ]
     },
     "execution_count": 446,
     "metadata": {},
     "output_type": "execute_result"
    }
   ],
   "source": [
    "len(list_urns)"
   ]
  },
  {
   "cell_type": "markdown",
   "metadata": {
    "deletable": true,
    "editable": true
   },
   "source": [
    "Then we pass the list of URNs to the function  ``get_schools_urls`` to retrieve the URLs ."
   ]
  },
  {
   "cell_type": "code",
   "execution_count": null,
   "metadata": {
    "collapsed": true,
    "deletable": true,
    "editable": true
   },
   "outputs": [],
   "source": [
    "list_school_urls = src.get_schools_urls(list_urns, mode'urn')"
   ]
  },
  {
   "cell_type": "markdown",
   "metadata": {
    "deletable": true,
    "editable": true
   },
   "source": [
    "We obtain a list of school websites. Many of those  are actually missing in the  https://www.compare-school-performance.service.gov.uk/ site so we have a lot of None values."
   ]
  },
  {
   "cell_type": "markdown",
   "metadata": {
    "collapsed": true,
    "deletable": true,
    "editable": true
   },
   "source": [
    "Finally we  process this list of URLs using ``get_webpage_text_from_url_list``."
   ]
  },
  {
   "cell_type": "code",
   "execution_count": null,
   "metadata": {
    "collapsed": true,
    "deletable": true,
    "editable": true
   },
   "outputs": [],
   "source": [
    "mined_text = src.get_webpage_text_from_url_list(list_school_urls)"
   ]
  },
  {
   "cell_type": "markdown",
   "metadata": {
    "collapsed": true,
    "deletable": true,
    "editable": true
   },
   "source": [
    "It takes a while to mine all the school URLs. So far we've processed the first 7000 entries from the ``list_school_urls`` list."
   ]
  },
  {
   "cell_type": "markdown",
   "metadata": {},
   "source": [
    "#  Creating the master DB"
   ]
  },
  {
   "cell_type": "markdown",
   "metadata": {
    "collapsed": true,
    "deletable": true,
    "editable": true
   },
   "source": [
    "We create a  db_master.csv file with 5 columns: URN, NAME, URL, TEXT and OFSTED. URN, NAME and OFSTED come from the https://www.gov.uk/government/statistical-data-sets/monthly-management-information-ofsteds-school-inspections-outcomes January CSV. We joined withe the main CSV in https://www.compare-school-performance.service.gov.uk/download-data and filtered out the closed schools. We end up with 20551 rows. The URL and TEXT are the web scrapped data."
   ]
  },
  {
   "cell_type": "code",
   "execution_count": 1,
   "metadata": {
    "collapsed": true
   },
   "outputs": [],
   "source": [
    "df = pd.read_csv('./data/db_master.csv')\n",
    "\n",
    "df['rawtext'] = np.nan\n",
    "\n",
    "import pickle\n",
    "\n",
    "# loading pickle files with scraped text\n",
    "text1 = pickle.load(open('./ignored/text1', 'r'))\n",
    "text2 = pickle.load(open('./ignored/text2', 'r'))\n",
    "text3 = pickle.load(open('./ignored/text3', 'r'))\n",
    "text6 = pickle.load(open('./ignored/text6', 'r'))\n",
    "text7 = pickle.load(open('./ignored/text7', 'r'))\n",
    "text10 = pickle.load(open('./ignored/text10', 'r'))\n",
    "text12 = pickle.load(open('./ignored/text12', 'r'))\n",
    "\n",
    "df['rawtext'][0:1000] = pd.Series(text1, dtype=object)\n",
    "df['rawtext'][1000:2000] = pd.Series(text2, dtype=object)\n",
    "df['rawtext'][2000:3000] = pd.Series(text3, dtype=object)\n",
    "df['rawtext'][5000:6000] = pd.Series(text6, dtype=object)\n",
    "df['rawtext'][6000:7000] = pd.Series(text7, dtype=object)\n",
    "df['rawtext'][9000:10000] = pd.Series(text10, dtype=object)\n",
    "df['rawtext'][11000:12000] = pd.Series(text12, dtype=object)\n",
    "\n",
    "df.to_pickle('./data/db_master.pickle')"
   ]
  },
  {
   "cell_type": "code",
   "execution_count": null,
   "metadata": {
    "collapsed": true
   },
   "outputs": [],
   "source": []
  },
  {
   "cell_type": "code",
   "execution_count": null,
   "metadata": {
    "collapsed": true
   },
   "outputs": [],
   "source": []
  }
 ],
 "metadata": {
  "anaconda-cloud": {},
  "kernelspec": {
   "display_name": "Python [default]",
   "language": "python",
   "name": "python2"
  },
  "language_info": {
   "codemirror_mode": {
    "name": "ipython",
    "version": 2
   },
   "file_extension": ".py",
   "mimetype": "text/x-python",
   "name": "python",
   "nbconvert_exporter": "python",
   "pygments_lexer": "ipython2",
   "version": "2.7.13"
  }
 },
 "nbformat": 4,
 "nbformat_minor": 2
}
