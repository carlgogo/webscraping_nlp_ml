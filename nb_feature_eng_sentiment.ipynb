{
 "cells": [
  {
   "cell_type": "code",
   "execution_count": null,
   "metadata": {
    "collapsed": true
   },
   "outputs": [],
   "source": [
    "import numpy as np\n",
    "import pandas as pd\n",
    "from sklearn.feature_extraction.text import CountVectorizer\n",
    "from sklearn.feature_extraction.text import TfidfTransformer\n",
    "from sklearn.base import TransformerMixin\n",
    "from sklearn.pipeline import Pipeline\n",
    "from sklearn.svm import LinearSVC\n",
    "from sklearn.linear_model import SGDClassifier\n",
    "from sklearn.metrics import accuracy_score\n",
    "from sklearn.model_selection import train_test_split\n",
    "from sklearn.multiclass import OneVsRestClassifier\n",
    "from sklearn.metrics import confusion_matrix\n",
    "from sklearn.metrics import classification_report\n",
    "from gensim import corpora, models\n",
    "from textblob import TextBlob\n",
    "import operator\n",
    "import mord\n",
    "\n",
    "from src import *"
   ]
  },
  {
   "cell_type": "markdown",
   "metadata": {},
   "source": [
    "# Feature Engineering"
   ]
  },
  {
   "cell_type": "code",
   "execution_count": null,
   "metadata": {
    "collapsed": true
   },
   "outputs": [],
   "source": [
    "# Read data\n",
    "db_file = './data/db_master_clean.pickle'\n",
    "df = pd.read_pickle(db_file)"
   ]
  },
  {
   "cell_type": "markdown",
   "metadata": {},
   "source": [
    "#### prepare feature matrix \"X\" and target \"y\" for Machine Learning"
   ]
  },
  {
   "cell_type": "code",
   "execution_count": null,
   "metadata": {
    "collapsed": true
   },
   "outputs": [],
   "source": [
    "target_filter = '12'\n",
    "#target_filter = '134'\n",
    "\n",
    "X, y = ml_preprocessing(df, filter=target_filter)\n",
    "print X.shape, y.shape"
   ]
  },
  {
   "cell_type": "code",
   "execution_count": null,
   "metadata": {
    "collapsed": true
   },
   "outputs": [],
   "source": [
    "def create_features_sentiment(X):\n",
    "\n",
    "    X_sent = np.array([])\n",
    "    i = 0\n",
    "    for elem in X:\n",
    "        blob = TextBlob(elem)\n",
    "        #for sentence in blob.sentences:\n",
    "        #    X_sent = [sentence.sentiment.polarity, sentence.sentiment.subjectivity]\n",
    "        _X_sent = np.array([blob.sentiment.polarity, blob.sentiment.subjectivity])\n",
    "        i = i+1\n",
    "        X_sent = np.append(X_sent, _X_sent, axis=0)\n",
    "        \n",
    "    X_sent = X_sent.reshape(len(X_sent)/2,2)\n",
    "    \n",
    "    return X_sent"
   ]
  },
  {
   "cell_type": "code",
   "execution_count": null,
   "metadata": {
    "collapsed": true
   },
   "outputs": [],
   "source": [
    "print '\\n--------------------------------'\n",
    "print '--------------------------------\\n'\n",
    "\n",
    "if 'sentiment' in feature_type:\n",
    "    %time Xsent = create_features_sentiment(X)"
   ]
  }
 ],
 "metadata": {
  "kernelspec": {
   "display_name": "Python 2",
   "language": "python",
   "name": "python2"
  },
  "language_info": {
   "codemirror_mode": {
    "name": "ipython",
    "version": 2
   },
   "file_extension": ".py",
   "mimetype": "text/x-python",
   "name": "python",
   "nbconvert_exporter": "python",
   "pygments_lexer": "ipython2",
   "version": "2.7.13"
  }
 },
 "nbformat": 4,
 "nbformat_minor": 2
}
